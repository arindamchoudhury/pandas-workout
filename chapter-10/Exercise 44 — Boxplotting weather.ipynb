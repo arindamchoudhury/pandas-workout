{
 "cells": [
  {
   "cell_type": "code",
   "execution_count": 1,
   "id": "75417ef5",
   "metadata": {},
   "outputs": [],
   "source": [
    "import numpy as np\n",
    "import pandas as pd\n",
    "from pandas import Series, DataFrame\n",
    "%matplotlib inline"
   ]
  },
  {
   "cell_type": "code",
   "execution_count": 2,
   "id": "97fca3e3",
   "metadata": {
    "scrolled": false
   },
   "outputs": [
    {
     "data": {
      "text/html": [
       "<div><div id=fc4cbee7-f9c3-4c84-9191-105ba88779cc style=\"display:none; background-color:#9D6CFF; color:white; width:200px; height:30px; padding-left:5px; border-radius:4px; flex-direction:row; justify-content:space-around; align-items:center;\" onmouseover=\"this.style.backgroundColor='#BA9BF8'\" onmouseout=\"this.style.backgroundColor='#9D6CFF'\" onclick=\"window.commands?.execute('create-mitosheet-from-dataframe-output');\">See Full Dataframe in Mito</div> <script> if (window.commands?.hasCommand('create-mitosheet-from-dataframe-output')) document.getElementById('fc4cbee7-f9c3-4c84-9191-105ba88779cc').style.display = 'flex' </script> <table border=\"1\" class=\"dataframe\">\n",
       "  <thead>\n",
       "    <tr style=\"text-align: right;\">\n",
       "      <th></th>\n",
       "      <th>maxtemp</th>\n",
       "      <th>mintemp</th>\n",
       "    </tr>\n",
       "    <tr>\n",
       "      <th>date_time</th>\n",
       "      <th></th>\n",
       "      <th></th>\n",
       "    </tr>\n",
       "  </thead>\n",
       "  <tbody>\n",
       "    <tr>\n",
       "      <th>2018-12-11 00:00:00</th>\n",
       "      <td>1</td>\n",
       "      <td>-2</td>\n",
       "    </tr>\n",
       "    <tr>\n",
       "      <th>2018-12-11 03:00:00</th>\n",
       "      <td>1</td>\n",
       "      <td>-2</td>\n",
       "    </tr>\n",
       "    <tr>\n",
       "      <th>2018-12-11 06:00:00</th>\n",
       "      <td>1</td>\n",
       "      <td>-2</td>\n",
       "    </tr>\n",
       "    <tr>\n",
       "      <th>2018-12-11 09:00:00</th>\n",
       "      <td>1</td>\n",
       "      <td>-2</td>\n",
       "    </tr>\n",
       "    <tr>\n",
       "      <th>2018-12-11 12:00:00</th>\n",
       "      <td>1</td>\n",
       "      <td>-2</td>\n",
       "    </tr>\n",
       "  </tbody>\n",
       "</table></div>"
      ],
      "text/plain": [
       "                     maxtemp  mintemp\n",
       "date_time                            \n",
       "2018-12-11 00:00:00        1       -2\n",
       "2018-12-11 03:00:00        1       -2\n",
       "2018-12-11 06:00:00        1       -2\n",
       "2018-12-11 09:00:00        1       -2\n",
       "2018-12-11 12:00:00        1       -2"
      ]
     },
     "execution_count": 2,
     "metadata": {},
     "output_type": "execute_result"
    }
   ],
   "source": [
    "# Load the weather data for Chicago.  We only care about three columns: date_time,\n",
    "# min temp, and max temp.  Make date_time the index, and set the names of the min\n",
    "# and max temp columns to \"mintemp\" and \"maxtemp\"\n",
    "\n",
    "filename = '../data/chicago,il.csv'\n",
    "\n",
    "df = pd.read_csv(filename, \n",
    "                 usecols=[0, 1,2],\n",
    "                 header=0,\n",
    "                 names=['date_time','maxtemp', 'mintemp'],\n",
    "                parse_dates=['date_time'],\n",
    "                index_col=['date_time'])\n",
    "df.head()"
   ]
  },
  {
   "cell_type": "code",
   "execution_count": 24,
   "id": "d1dbaac0",
   "metadata": {
    "scrolled": true
   },
   "outputs": [
    {
     "data": {
      "image/png": "[encoded data removed]",
      "text/plain": [
       "<Figure size 640x480 with 1 Axes>"
      ]
     },
     "metadata": {},
     "output_type": "display_data"
    }
   ],
   "source": [
    "# Create a boxplot of Chicago's minimum temperatures during this period.\n",
    "p = df['mintemp'].plot.box()\n",
    "f = p.get_figure()\n",
    "f.savefig('../../media/CH10_F7_LERNER.jpg')"
   ]
  },
  {
   "cell_type": "code",
   "execution_count": 4,
   "id": "b09b91d0",
   "metadata": {
    "scrolled": true
   },
   "outputs": [
    {
     "data": {
      "text/plain": [
       "date_time\n",
       "2019-01-30 00:00:00   -28\n",
       "2019-01-30 03:00:00   -28\n",
       "2019-01-30 06:00:00   -28\n",
       "2019-01-30 09:00:00   -28\n",
       "2019-01-30 12:00:00   -28\n",
       "2019-01-30 15:00:00   -28\n",
       "2019-01-30 18:00:00   -28\n",
       "2019-01-30 21:00:00   -28\n",
       "2019-01-31 00:00:00   -27\n",
       "2019-01-31 03:00:00   -27\n",
       "2019-01-31 06:00:00   -27\n",
       "2019-01-31 09:00:00   -27\n",
       "2019-01-31 12:00:00   -27\n",
       "2019-01-31 15:00:00   -27\n",
       "2019-01-31 18:00:00   -27\n",
       "2019-01-31 21:00:00   -27\n",
       "Name: mintemp, dtype: int64"
      ]
     },
     "execution_count": 4,
     "metadata": {},
     "output_type": "execute_result"
    }
   ],
   "source": [
    "# Find the values that are represented as dots on that boxplot\n",
    "\n",
    "# note: this assumes outliers are 2.5 * std below and above the mean.\n",
    "# I need to investigate this more; they might be 1.5 IQR above and below 75%/25%\n",
    "\n",
    "df.loc[df['mintemp'] < df['mintemp'].mean() - (df['mintemp'].std() * 2.5), 'mintemp']"
   ]
  },
  {
   "cell_type": "code",
   "execution_count": 27,
   "id": "1a9da221",
   "metadata": {
    "scrolled": true
   },
   "outputs": [
    {
     "data": {
      "image/png": "[encoded data removed]",
      "text/plain": [
       "<Figure size 640x480 with 1 Axes>"
      ]
     },
     "metadata": {},
     "output_type": "display_data"
    }
   ],
   "source": [
    "# Create a boxplot of Chicago's minimum temperatures in February.\n",
    "p = df.loc['01-Feb-2019':'28-Feb-2019', 'mintemp'].plot.box()\n",
    "f = p.get_figure()\n",
    "f.savefig('../../media/CH10_F8_LERNER.jpg')"
   ]
  },
  {
   "cell_type": "code",
   "execution_count": 28,
   "id": "18406db7",
   "metadata": {
    "scrolled": true
   },
   "outputs": [
    {
     "data": {
      "image/png": "[encoded data removed]",
      "text/plain": [
       "<Figure size 640x480 with 1 Axes>"
      ]
     },
     "metadata": {},
     "output_type": "display_data"
    }
   ],
   "source": [
    "# Create a side-by-side boxplot of Chicago's minimum and temperatures in February and March\n",
    "p = df.loc['01-Feb-2019':'30-Mar-2019', ['mintemp','maxtemp']].plot.box()\n",
    "f = p.get_figure()\n",
    "f.savefig('../../media/CH10_F9_LERNER.jpg')"
   ]
  },
  {
   "cell_type": "code",
   "execution_count": 7,
   "id": "a927abb8",
   "metadata": {
    "scrolled": false
   },
   "outputs": [
    {
     "data": {
      "text/html": [
       "<div><div id=f439ee09-4eba-4640-8b94-92445d7d3b56 style=\"display:none; background-color:#9D6CFF; color:white; width:200px; height:30px; padding-left:5px; border-radius:4px; flex-direction:row; justify-content:space-around; align-items:center;\" onmouseover=\"this.style.backgroundColor='#BA9BF8'\" onmouseout=\"this.style.backgroundColor='#9D6CFF'\" onclick=\"window.commands?.execute('create-mitosheet-from-dataframe-output');\">See Full Dataframe in Mito</div> <script> if (window.commands?.hasCommand('create-mitosheet-from-dataframe-output')) document.getElementById('f439ee09-4eba-4640-8b94-92445d7d3b56').style.display = 'flex' </script> <table border=\"1\" class=\"dataframe\">\n",
       "  <thead>\n",
       "    <tr style=\"text-align: right;\">\n",
       "      <th></th>\n",
       "      <th>maxtemp</th>\n",
       "      <th>mintemp</th>\n",
       "      <th>city</th>\n",
       "    </tr>\n",
       "    <tr>\n",
       "      <th>date_time</th>\n",
       "      <th></th>\n",
       "      <th></th>\n",
       "      <th></th>\n",
       "    </tr>\n",
       "  </thead>\n",
       "  <tbody>\n",
       "    <tr>\n",
       "      <th>2018-12-11 00:00:00</th>\n",
       "      <td>1</td>\n",
       "      <td>-2</td>\n",
       "      <td>Chicago</td>\n",
       "    </tr>\n",
       "    <tr>\n",
       "      <th>2018-12-11 03:00:00</th>\n",
       "      <td>1</td>\n",
       "      <td>-2</td>\n",
       "      <td>Chicago</td>\n",
       "    </tr>\n",
       "    <tr>\n",
       "      <th>2018-12-11 06:00:00</th>\n",
       "      <td>1</td>\n",
       "      <td>-2</td>\n",
       "      <td>Chicago</td>\n",
       "    </tr>\n",
       "    <tr>\n",
       "      <th>2018-12-11 09:00:00</th>\n",
       "      <td>1</td>\n",
       "      <td>-2</td>\n",
       "      <td>Chicago</td>\n",
       "    </tr>\n",
       "    <tr>\n",
       "      <th>2018-12-11 12:00:00</th>\n",
       "      <td>1</td>\n",
       "      <td>-2</td>\n",
       "      <td>Chicago</td>\n",
       "    </tr>\n",
       "  </tbody>\n",
       "</table></div>"
      ],
      "text/plain": [
       "                     maxtemp  mintemp     city\n",
       "date_time                                     \n",
       "2018-12-11 00:00:00        1       -2  Chicago\n",
       "2018-12-11 03:00:00        1       -2  Chicago\n",
       "2018-12-11 06:00:00        1       -2  Chicago\n",
       "2018-12-11 09:00:00        1       -2  Chicago\n",
       "2018-12-11 12:00:00        1       -2  Chicago"
      ]
     },
     "execution_count": 7,
     "metadata": {},
     "output_type": "execute_result"
    }
   ],
   "source": [
    "# Now read data from Los Angeles and Boston in, as well.  Create a single data\n",
    "# frame with data from all three cities, along with a \"city\" \n",
    "\n",
    "df['city'] = 'Chicago'\n",
    "\n",
    "for city_stem in ['los+angeles,ca', 'boston,ma']:\n",
    "    new_df = pd.read_csv(f'../data/{city_stem}.csv', \n",
    "                 usecols=[0, 1,2],\n",
    "                 header=0,\n",
    "                 names=['date_time','maxtemp', 'mintemp'],\n",
    "                parse_dates=['date_time'],\n",
    "                index_col=['date_time'])\n",
    "    new_df['city'] = city_stem.split(',')[0].replace('+', ' ').title()\n",
    "    df = pd.concat([df, new_df])\n",
    "\n",
    "df.head()"
   ]
  },
  {
   "cell_type": "code",
   "execution_count": 8,
   "id": "60614998",
   "metadata": {
    "scrolled": true
   },
   "outputs": [
    {
     "data": {
      "text/html": [
       "<div><div id=c145c0cf-6c72-4713-97a4-b25a5d8dc308 style=\"display:none; background-color:#9D6CFF; color:white; width:200px; height:30px; padding-left:5px; border-radius:4px; flex-direction:row; justify-content:space-around; align-items:center;\" onmouseover=\"this.style.backgroundColor='#BA9BF8'\" onmouseout=\"this.style.backgroundColor='#9D6CFF'\" onclick=\"window.commands?.execute('create-mitosheet-from-dataframe-output');\">See Full Dataframe in Mito</div> <script> if (window.commands?.hasCommand('create-mitosheet-from-dataframe-output')) document.getElementById('c145c0cf-6c72-4713-97a4-b25a5d8dc308').style.display = 'flex' </script> <table border=\"1\" class=\"dataframe\">\n",
       "  <thead>\n",
       "    <tr>\n",
       "      <th></th>\n",
       "      <th colspan=\"8\" halign=\"left\">mintemp</th>\n",
       "      <th colspan=\"8\" halign=\"left\">maxtemp</th>\n",
       "    </tr>\n",
       "    <tr>\n",
       "      <th></th>\n",
       "      <th>count</th>\n",
       "      <th>mean</th>\n",
       "      <th>std</th>\n",
       "      <th>min</th>\n",
       "      <th>25%</th>\n",
       "      <th>50%</th>\n",
       "      <th>75%</th>\n",
       "      <th>max</th>\n",
       "      <th>count</th>\n",
       "      <th>mean</th>\n",
       "      <th>std</th>\n",
       "      <th>min</th>\n",
       "      <th>25%</th>\n",
       "      <th>50%</th>\n",
       "      <th>75%</th>\n",
       "      <th>max</th>\n",
       "    </tr>\n",
       "    <tr>\n",
       "      <th>city</th>\n",
       "      <th></th>\n",
       "      <th></th>\n",
       "      <th></th>\n",
       "      <th></th>\n",
       "      <th></th>\n",
       "      <th></th>\n",
       "      <th></th>\n",
       "      <th></th>\n",
       "      <th></th>\n",
       "      <th></th>\n",
       "      <th></th>\n",
       "      <th></th>\n",
       "      <th></th>\n",
       "      <th></th>\n",
       "      <th></th>\n",
       "      <th></th>\n",
       "    </tr>\n",
       "  </thead>\n",
       "  <tbody>\n",
       "    <tr>\n",
       "      <th>Boston</th>\n",
       "      <td>728.0</td>\n",
       "      <td>-3.142857</td>\n",
       "      <td>4.957195</td>\n",
       "      <td>-14.0</td>\n",
       "      <td>-6.0</td>\n",
       "      <td>-3.0</td>\n",
       "      <td>0.0</td>\n",
       "      <td>9.0</td>\n",
       "      <td>728.0</td>\n",
       "      <td>2.868132</td>\n",
       "      <td>4.945277</td>\n",
       "      <td>-12.0</td>\n",
       "      <td>0.0</td>\n",
       "      <td>2.0</td>\n",
       "      <td>6.0</td>\n",
       "      <td>17.0</td>\n",
       "    </tr>\n",
       "    <tr>\n",
       "      <th>Chicago</th>\n",
       "      <td>728.0</td>\n",
       "      <td>-5.076923</td>\n",
       "      <td>6.255857</td>\n",
       "      <td>-28.0</td>\n",
       "      <td>-9.0</td>\n",
       "      <td>-4.0</td>\n",
       "      <td>-1.0</td>\n",
       "      <td>6.0</td>\n",
       "      <td>728.0</td>\n",
       "      <td>-0.736264</td>\n",
       "      <td>6.128985</td>\n",
       "      <td>-25.0</td>\n",
       "      <td>-3.0</td>\n",
       "      <td>0.0</td>\n",
       "      <td>3.0</td>\n",
       "      <td>9.0</td>\n",
       "    </tr>\n",
       "    <tr>\n",
       "      <th>Los Angeles</th>\n",
       "      <td>728.0</td>\n",
       "      <td>10.637363</td>\n",
       "      <td>2.705200</td>\n",
       "      <td>4.0</td>\n",
       "      <td>9.0</td>\n",
       "      <td>11.0</td>\n",
       "      <td>12.0</td>\n",
       "      <td>17.0</td>\n",
       "      <td>728.0</td>\n",
       "      <td>17.054945</td>\n",
       "      <td>2.708640</td>\n",
       "      <td>12.0</td>\n",
       "      <td>15.0</td>\n",
       "      <td>16.0</td>\n",
       "      <td>19.0</td>\n",
       "      <td>23.0</td>\n",
       "    </tr>\n",
       "  </tbody>\n",
       "</table></div>"
      ],
      "text/plain": [
       "            mintemp                                                   maxtemp   \n",
       "              count       mean       std   min  25%   50%   75%   max   count   \n",
       "city                                                                            \n",
       "Boston        728.0  -3.142857  4.957195 -14.0 -6.0  -3.0   0.0   9.0   728.0  \\\n",
       "Chicago       728.0  -5.076923  6.255857 -28.0 -9.0  -4.0  -1.0   6.0   728.0   \n",
       "Los Angeles   728.0  10.637363  2.705200   4.0  9.0  11.0  12.0  17.0   728.0   \n",
       "\n",
       "                                                                \n",
       "                  mean       std   min   25%   50%   75%   max  \n",
       "city                                                            \n",
       "Boston        2.868132  4.945277 -12.0   0.0   2.0   6.0  17.0  \n",
       "Chicago      -0.736264  6.128985 -25.0  -3.0   0.0   3.0   9.0  \n",
       "Los Angeles  17.054945  2.708640  12.0  15.0  16.0  19.0  23.0  "
      ]
     },
     "execution_count": 8,
     "metadata": {},
     "output_type": "execute_result"
    }
   ],
   "source": [
    "# Get descriptive statistics for mintemp and maxtemp, grouped by city\n",
    "df.groupby('city')[['mintemp', 'maxtemp']].describe()"
   ]
  },
  {
   "cell_type": "code",
   "execution_count": 31,
   "id": "1e7fe6cf",
   "metadata": {
    "scrolled": true
   },
   "outputs": [
    {
     "data": {
      "image/png": "[encoded data removed]",
      "text/plain": [
       "<Figure size 640x480 with 2 Axes>"
      ]
     },
     "metadata": {},
     "output_type": "display_data"
    }
   ],
   "source": [
    "# Create a boxplot showing the minimum and maximum temperatures for each of the three cities in df\n",
    "p, ax = df.plot.box(column=['mintemp', 'maxtemp'], by='city')"
   ]
  },
  {
   "cell_type": "code",
   "execution_count": 35,
   "id": "fbf0efb1",
   "metadata": {},
   "outputs": [],
   "source": [
    "f = ax.get_figure()\n",
    "f.savefig('../../media/CH10_F10_LERNER.jpg')"
   ]
  },
  {
   "cell_type": "code",
   "execution_count": 10,
   "id": "ab812fc9",
   "metadata": {},
   "outputs": [
    {
     "data": {
      "text/plain": [
       "count     5.00000\n",
       "mean     17.40000\n",
       "std       5.59464\n",
       "min      10.00000\n",
       "25%      15.00000\n",
       "50%      17.00000\n",
       "75%      20.00000\n",
       "max      25.00000\n",
       "dtype: float64"
      ]
     },
     "execution_count": 10,
     "metadata": {},
     "output_type": "execute_result"
    }
   ],
   "source": [
    "s = Series([10, 15, 17, 20, 25])\n",
    "s.describe()"
   ]
  },
  {
   "cell_type": "code",
   "execution_count": 11,
   "id": "62b36eef",
   "metadata": {},
   "outputs": [
    {
     "data": {
      "image/png": "[encoded data removed]",
      "text/plain": [
       "<Figure size 640x480 with 1 Axes>"
      ]
     },
     "metadata": {},
     "output_type": "display_data"
    }
   ],
   "source": [
    "p = s.plot.box()\n",
    "f = p.get_figure()\n",
    "f.savefig('../../media/CH10_F5_LERNER.jpg')"
   ]
  },
  {
   "cell_type": "code",
   "execution_count": 21,
   "id": "a9980517",
   "metadata": {},
   "outputs": [],
   "source": [
    "s = Series([-20, 10, 15, 17, 20, 25, 40])\n"
   ]
  },
  {
   "cell_type": "code",
   "execution_count": 22,
   "id": "d26fe495",
   "metadata": {},
   "outputs": [
    {
     "data": {
      "text/plain": [
       "count     7.000000\n",
       "mean     15.285714\n",
       "std      18.273061\n",
       "min     -20.000000\n",
       "25%      12.500000\n",
       "50%      17.000000\n",
       "75%      22.500000\n",
       "max      40.000000\n",
       "dtype: float64"
      ]
     },
     "execution_count": 22,
     "metadata": {},
     "output_type": "execute_result"
    }
   ],
   "source": [
    "s.describe()"
   ]
  },
  {
   "cell_type": "code",
   "execution_count": 23,
   "id": "30e90bb2",
   "metadata": {},
   "outputs": [
    {
     "data": {
      "image/png": "[encoded data removed]",
      "text/plain": [
       "<Figure size 640x480 with 1 Axes>"
      ]
     },
     "metadata": {},
     "output_type": "display_data"
    }
   ],
   "source": [
    "p = s.plot.box()\n",
    "f = p.get_figure()\n",
    "f.savefig('../../media/CH10_F6_LERNER.jpg')"
   ]
  },
  {
   "cell_type": "code",
   "execution_count": null,
   "id": "b8bd6903",
   "metadata": {},
   "outputs": [],
   "source": []
  }
 ],
 "metadata": {
  "kernelspec": {
   "display_name": "Python 3 (ipykernel)",
   "language": "python",
   "name": "python3"
  },
  "language_info": {
   "codemirror_mode": {
    "name": "ipython",
    "version": 3
   },
   "file_extension": ".py",
   "mimetype": "text/x-python",
   "name": "python",
   "nbconvert_exporter": "python",
   "pygments_lexer": "ipython3",
   "version": "3.11.3"
  }
 },
 "nbformat": 4,
 "nbformat_minor": 5
}
